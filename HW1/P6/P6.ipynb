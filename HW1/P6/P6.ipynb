{
 "cells": [
  {
   "cell_type": "code",
   "execution_count": 2,
   "metadata": {
    "collapsed": false
   },
   "outputs": [
    {
     "ename": "ImportError",
     "evalue": "No module named pyspark",
     "output_type": "error",
     "traceback": [
      "\u001b[0;31m---------------------------------------------------------------------------\u001b[0m",
      "\u001b[0;31mImportError\u001b[0m                               Traceback (most recent call last)",
      "\u001b[0;32m<ipython-input-2-c15ae3402d12>\u001b[0m in \u001b[0;36m<module>\u001b[0;34m()\u001b[0m\n\u001b[0;32m----> 1\u001b[0;31m \u001b[0;32mimport\u001b[0m \u001b[0mpyspark\u001b[0m\u001b[0;34m\u001b[0m\u001b[0m\n\u001b[0m",
      "\u001b[0;31mImportError\u001b[0m: No module named pyspark"
     ]
    }
   ],
   "source": [
    "import pyspark"
   ]
  },
  {
   "cell_type": "code",
   "execution_count": 1,
   "metadata": {
    "collapsed": false
   },
   "outputs": [
    {
     "ename": "ImportError",
     "evalue": "No module named pyspark",
     "output_type": "error",
     "traceback": [
      "\u001b[0;31m---------------------------------------------------------------------------\u001b[0m",
      "\u001b[0;31mImportError\u001b[0m                               Traceback (most recent call last)",
      "\u001b[0;32m<ipython-input-1-a46b358080de>\u001b[0m in \u001b[0;36m<module>\u001b[0;34m()\u001b[0m\n\u001b[0;32m----> 1\u001b[0;31m \u001b[0;32mimport\u001b[0m \u001b[0mpyspark\u001b[0m\u001b[0;34m\u001b[0m\u001b[0m\n\u001b[0m\u001b[1;32m      2\u001b[0m \u001b[0;32mfrom\u001b[0m \u001b[0mcollections\u001b[0m \u001b[0;32mimport\u001b[0m \u001b[0mdefaultdict\u001b[0m\u001b[0;34m\u001b[0m\u001b[0m\n\u001b[1;32m      3\u001b[0m \u001b[0;34m\u001b[0m\u001b[0m\n\u001b[1;32m      4\u001b[0m \u001b[0msc\u001b[0m \u001b[0;34m=\u001b[0m \u001b[0mpyspark\u001b[0m\u001b[0;34m.\u001b[0m\u001b[0mSparkContext\u001b[0m\u001b[0;34m(\u001b[0m\u001b[0;34m)\u001b[0m\u001b[0;34m\u001b[0m\u001b[0m\n\u001b[1;32m      5\u001b[0m \u001b[0;34m\u001b[0m\u001b[0m\n",
      "\u001b[0;31mImportError\u001b[0m: No module named pyspark"
     ]
    }
   ],
   "source": [
    "import pyspark\n",
    "from collections import defaultdict\n",
    "\n",
    "sc = pyspark.SparkContext()\n",
    "\n",
    "lines = sc.textFile('/Users/idzhang/COLLEGENOW/CS205/100.txt')\n",
    "words = lines.flatMap(lambda line: line.split(' '))\n",
    "\n",
    "# Filter out any words that contain only numbers, contain only letters which are capitalized, or contains\n",
    "# only letters which are capitalized and ends with a period.\n",
    "# Be sure that filtering doesn't change ordering of words!\n",
    "words = words.filter(lambda word: not (word.isupper() or (word[:-1].isupper() and word[-1] == '.') or word.isdigit())) \n",
    "numWords = words.count()\n",
    "wordsList = words.collect()\n",
    "\n",
    "# Map words to three word phrases\n",
    "wordsWithIdx = words.zipWithIndex()\n",
    "\n",
    "def mapWordToPhrase(w, wordsList):\n",
    "\t(word, idx) = w\n",
    "\tif (idx < numWords - 2):\n",
    "\t\treturn [(word, wordsList[idx+1]), [(wordsList[idx+2], 1)]]\n",
    "\telse:\n",
    "\t\treturn []\n",
    "\n",
    "# Phrases contains ((word1, word2), [word3]) for every 3 word phrase\n",
    "phrases = wordsWithIdx.flatMap(lambda w: mapWordToPhrase(w, wordsList)).cache()\n",
    "\n",
    "# threeWords contains ((word1, word2), [all possible word3s in a list with duplicates])\n",
    "threeWords = phrases.reduceByKey(lambda x,y: x+y)"
   ]
  },
  {
   "cell_type": "code",
   "execution_count": null,
   "metadata": {
    "collapsed": true
   },
   "outputs": [],
   "source": [
    "def reducesWordList(wordList):\n",
    "\td = \n",
    "\twordList\n",
    "\n",
    "# Reduce by key (first 2 words of 3 word phrase)\n",
    "twoWords = threeWords.mapValues(reducesWordList)\n",
    "\n",
    "# # Perform map (word -> (word,1)) and then reduce (add counts) operations on 3-word phrases\n",
    "# # twoWords = twoWords.mapValues(map(lambda word: (word, 1), val))\n",
    "# twoWords = twoWords.mapValues(map(lambda x: (x,1), words)).mapValues()\n",
    "\n",
    "print threeWords.take(15)"
   ]
  }
 ],
 "metadata": {
  "kernelspec": {
   "display_name": "Python 2",
   "language": "python",
   "name": "python2"
  },
  "language_info": {
   "codemirror_mode": {
    "name": "ipython",
    "version": 2
   },
   "file_extension": ".py",
   "mimetype": "text/x-python",
   "name": "python",
   "nbconvert_exporter": "python",
   "pygments_lexer": "ipython2",
   "version": "2.7.10"
  }
 },
 "nbformat": 4,
 "nbformat_minor": 0
}
